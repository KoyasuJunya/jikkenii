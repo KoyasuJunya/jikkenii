{
 "cells": [
  {
   "cell_type": "markdown",
   "metadata": {},
   "source": [
    " # 実験1 (パーサ（構文解析器）の理解)\n",
    " - パーサ（構文解析器）を小さな部品を組み合わせて系統的に作成する方法を学ぶ．\n",
    " - 実例としてコンマ区切りデータ(CSV)を解析する．"
   ]
  },
  {
   "cell_type": "markdown",
   "metadata": {},
   "source": [
    " ライブラリの読み込み（最初に必ずおこなう）"
   ]
  },
  {
   "cell_type": "code",
   "execution_count": null,
   "metadata": {},
   "outputs": [],
   "source": [
    "from toyparsing import *"
   ]
  },
  {
   "cell_type": "markdown",
   "metadata": {},
   "source": [
    " ## 10進整数を切り出すパーサ\n",
    " 10進整数のパターンを正規表現で表し`pat`(`pattern`)関数を呼び出すと10進整数を切り出すパーサが作られる"
   ]
  },
  {
   "cell_type": "code",
   "execution_count": null,
   "metadata": {},
   "outputs": [],
   "source": [
    "num = pat(\"[0-9]+\")"
   ]
  },
  {
   "cell_type": "markdown",
   "metadata": {},
   "source": [
    " つくられた`num`パーサに入力文字列を与えて呼び出すと，先頭から10進整数の部分を切り出して返す．そのとき，やり残りの文字列とペア（対）にして返す．"
   ]
  },
  {
   "cell_type": "code",
   "execution_count": null,
   "metadata": {},
   "outputs": [],
   "source": [
    "num(\"123abc\")"
   ]
  },
  {
   "cell_type": "markdown",
   "metadata": {},
   "source": [
    " 切り出しに失敗することもある．以下の例は先頭に10進整数のパターンが無いので失敗．失敗すると`None`（Pythonで未定義を表す特別な値）を返す．Jupyterノートブックでは`None`は表示されないが，`print`関数を使えば確認できる．"
   ]
  },
  {
   "cell_type": "code",
   "execution_count": null,
   "metadata": {},
   "outputs": [],
   "source": [
    "print(num(\"abc123\"))"
   ]
  },
  {
   "cell_type": "markdown",
   "metadata": {},
   "source": [
    " ## パーサの概念図\n",
    " パーサは文字列を入力とする関数（函数）だが，概念的には出力が2つあると考えると理解しやすい．つまり処理結果を返す出口の他に，やり残した文字列を返す出口がある．\n",
    "\n",
    " <img src=\"img/num_parser.png\" width=50%>"
   ]
  },
  {
   "cell_type": "markdown",
   "metadata": {},
   "source": [
    " ## パーサの直列接続（流れ作業）\n",
    " パーサを連結して流れ作業でより複雑な処理をすることができる．以下の例は`num`パーサを3つ直列につないで流れ作業で3つの連続する（空白で区切られた）10進整数を切り出すパーサ`num3`をつくっている．\n",
    " デコレータ`@parser_do`は，後続の関数定義がパーサの定義として以下のように特別に扱われるように指示している．\n",
    " 1. パーサの定義は必ず１引数で仮引数名はなんでもいいが，普通は`run`という名前にする．\n",
    " 2. `n1`, `n2`, `n3`には切り出した10進整数文字列が入る（やり残し文字列とのペアではない！）やり残し文字列を後続の`num`パーサに渡す仕事はコードには現れないが裏で自動的におこなわれる．\n",
    " 3. 途中で失敗したときには，残りの処理はスキップされ**`num3`全体が失敗**して`None`を返す．このとき，num3の処理中に読んだ入力文字はどれも読まなかったことになりnum3開始時点の状態にまで戻される．\n",
    " 4. 最後に`n1`,`n2`,`n3`の値を要素とするリスト（動的配列）を返している（コードには現れないが自動的にやり残し文字列とペアにしてから返される）．\n",
    "\n",
    " 以下のようなイメージをもつと理解しやすい．\n",
    "\n",
    " <img src=\"img/serial.png\" width=100%>"
   ]
  },
  {
   "cell_type": "code",
   "execution_count": null,
   "metadata": {},
   "outputs": [],
   "source": [
    "@parser_do\n",
    "def num3(run):\n",
    "    n1 = run(num)\n",
    "    n2 = run(num)\n",
    "    n3 = run(num)\n",
    "    return [n1,n2,n3]"
   ]
  },
  {
   "cell_type": "code",
   "execution_count": null,
   "metadata": {},
   "outputs": [],
   "source": [
    "num3(\"12 3 456 78\")"
   ]
  },
  {
   "cell_type": "code",
   "execution_count": null,
   "metadata": {},
   "outputs": [],
   "source": [
    "print(num3(\"12 abc 345\"))"
   ]
  },
  {
   "cell_type": "markdown",
   "metadata": {},
   "source": [
    " 直列接続（流れ作業）は頻出なので，これを短く書ける`&`演算子が用意されている．\n",
    " `&`は左結合なのでパーサの結果は左から順にふたつずつまとめて返される．"
   ]
  },
  {
   "cell_type": "code",
   "execution_count": null,
   "metadata": {},
   "outputs": [],
   "source": [
    "num2 = num & num\n",
    "num2(\"12 3 456 78\")"
   ]
  },
  {
   "cell_type": "code",
   "execution_count": null,
   "metadata": {},
   "outputs": [],
   "source": [
    "num4 = num & num & num & num \n",
    "num4(\"12 3 456 78\")"
   ]
  },
  {
   "cell_type": "markdown",
   "metadata": {},
   "source": [
    " 以下の例（誤例）では結果をリストにまとめて返す代わりに和を求めて返すつもりだが，思ったように動かない（`n1`,`n2`,`n3`は整数ではなく整数を表す文字列なので，たし算の代わりに文字列の連結が実行されてしまっている）．"
   ]
  },
  {
   "cell_type": "code",
   "execution_count": null,
   "metadata": {},
   "outputs": [],
   "source": [
    "@parser_do\n",
    "def num3_sum(run):\n",
    "    n1 = run(num)\n",
    "    n2 = run(num) \n",
    "    n3 = run(num)\n",
    "    return n1 + n2 + n3"
   ]
  },
  {
   "cell_type": "code",
   "execution_count": null,
   "metadata": {},
   "outputs": [],
   "source": [
    "num3_sum(\"12 3 456 78\")"
   ]
  },
  {
   "cell_type": "markdown",
   "metadata": {},
   "source": [
    " `num`パーサを呼び出す度に整数に変換するよりは，最初から整数を返すように`num`パーサの定義を改良するほうが合理的．\n",
    " 以下のセルを実行した後，上の例を再度実行すると意図通り正しく総和が求められることが分かる．"
   ]
  },
  {
   "cell_type": "code",
   "execution_count": null,
   "metadata": {},
   "outputs": [],
   "source": [
    "@parser_do\n",
    "def num(run):\n",
    "    return int(run(pat(\"[0-9]+\")))"
   ]
  },
  {
   "cell_type": "markdown",
   "metadata": {},
   "source": [
    " ## 失敗の制御\n",
    " 前述のようにパーサの定義においては，部分の解析が失敗すると自動的に全体を失敗させるのがデフォルト（既定）の動作だが，\n",
    " `run`関数にオプション`nullable=True`を与えるとこれを無効にして失敗時の挙動を手動で制御できるようになる．\n",
    " `run(p, nullable=True)`でパーサ`p`の実行が失敗すると\n",
    " 1. `run(p, nullable=True)`は`None`を返し\n",
    " 2. パーサ`p`の処理中に読んだ入力文字列は読まなかったことになり\n",
    " 3. パーサ`p`はNoneを返す．\n",
    "\n",
    " 残りの処理をどうするかは返された値が`None`かどうかをみてプログラマが自分で制御することになる．\n",
    " 以下はnum3とほとんど同じだが、「nullable=True」が付加されている点だけが異なる．\n",
    " 実行して結果を観察せよ．"
   ]
  },
  {
   "cell_type": "code",
   "execution_count": null,
   "metadata": {},
   "outputs": [],
   "source": [
    "@parser_do\n",
    "def num3_nullable(run):\n",
    "    n1 = run(num, nullable=True)\n",
    "    n2 = run(num, nullable=True)\n",
    "    n3 = run(num, nullable=True)\n",
    "    return [n1,n2,n3]"
   ]
  },
  {
   "cell_type": "code",
   "execution_count": null,
   "metadata": {},
   "outputs": [],
   "source": [
    "num3_nullable(\"a 2 3 4\")"
   ]
  },
  {
   "cell_type": "code",
   "execution_count": null,
   "metadata": {},
   "outputs": [],
   "source": [
    "num3_nullable(\"1 a 3 4\")"
   ]
  },
  {
   "cell_type": "code",
   "execution_count": null,
   "metadata": {},
   "outputs": [],
   "source": [
    "num3_nullable(\"1 2 a 4\")"
   ]
  },
  {
   "cell_type": "code",
   "execution_count": null,
   "metadata": {},
   "outputs": [],
   "source": [
    "num3_nullable(\"1 2 3 4\")"
   ]
  },
  {
   "cell_type": "markdown",
   "metadata": {},
   "source": [
    " この挙動をもとに、高々3つまでの数を認識するパーサは以下のように実現できる．"
   ]
  },
  {
   "cell_type": "code",
   "execution_count": null,
   "metadata": {},
   "outputs": [],
   "source": [
    "@parser_do\n",
    "def num_at_most3(run):\n",
    "    n1 = run(num, nullable=True)\n",
    "    if n1 is None: return []\n",
    "    n2 = run(num, nullable=True)\n",
    "    if n2 is None: return [n1]\n",
    "    n3 = run(num, nullable=True)\n",
    "    if n3 is None: return [n1,n2]\n",
    "    return [n1,n2,n3]"
   ]
  },
  {
   "cell_type": "code",
   "execution_count": null,
   "metadata": {},
   "outputs": [],
   "source": [
    "num_at_most3(\"a 2 3 4\")"
   ]
  },
  {
   "cell_type": "code",
   "execution_count": null,
   "metadata": {},
   "outputs": [],
   "source": [
    "num_at_most3(\"1 a 3 4\")"
   ]
  },
  {
   "cell_type": "code",
   "execution_count": null,
   "metadata": {},
   "outputs": [],
   "source": [
    "num_at_most3(\"1 2 a 4\")"
   ]
  },
  {
   "cell_type": "code",
   "execution_count": null,
   "metadata": {},
   "outputs": [],
   "source": [
    "num_at_most3(\"1 2 3 4\")"
   ]
  },
  {
   "cell_type": "markdown",
   "metadata": {},
   "source": [
    " どんな入力に対しても常に失敗するパーサ`fail`が用意されている．\n",
    " 強制的に失敗させたいときには、これをrunすればよい．"
   ]
  },
  {
   "cell_type": "code",
   "execution_count": null,
   "metadata": {},
   "outputs": [],
   "source": [
    "print(fail(\"123\"))"
   ]
  },
  {
   "cell_type": "markdown",
   "metadata": {},
   "source": [
    " ## パーサの並列接続（バックアップ，下支え）\n",
    " あるパーサを別のパーサのバックアップ（下支え）として並列して使うこともある．以下は英小文字の並びを切り出す`alpha`パーサを`num`パーサのバックアップとして用いる例．\n",
    " `num_or_alpha`は，最初に`num`を用いて試行し，切り出しに失敗したときに限り`alpha`を用いる．"
   ]
  },
  {
   "cell_type": "code",
   "execution_count": null,
   "metadata": {},
   "outputs": [],
   "source": [
    "alpha = pat(\"[a-z]+\")\n",
    "\n",
    "@parser_do\n",
    "def num_or_alpha(run):\n",
    "    n = run(num, nullable=True)  # [問]`nullable=True`を取り除いて実行するとどうなるか？\n",
    "    if n is None:\n",
    "        return run(alpha)\n",
    "    return n"
   ]
  },
  {
   "cell_type": "code",
   "execution_count": null,
   "metadata": {},
   "outputs": [],
   "source": [
    "num_or_alpha(\"123abc\")  # `num`が使われて123を切り出す（`alpha`は未使用）"
   ]
  },
  {
   "cell_type": "code",
   "execution_count": null,
   "metadata": {},
   "outputs": [],
   "source": [
    "num_or_alpha(\"abc123\")  # `num`は失敗するので下支えの`alpha`が使われてabcが切り出される"
   ]
  },
  {
   "cell_type": "markdown",
   "metadata": {},
   "source": [
    " 以下のようなイメージをもつと理解しやすい．\n",
    "\n",
    " <img src=\"img/parallel.png\" width=90%>\n",
    "\n",
    " 並列接続（バックアップ）もよく用いられるので短く書けるよう演算子`|`が用意されている．以下の例は上の`num_or_alpha`と等価．"
   ]
  },
  {
   "cell_type": "code",
   "execution_count": null,
   "metadata": {},
   "outputs": [],
   "source": [
    "num_or_alpha_alt = num | alpha"
   ]
  },
  {
   "cell_type": "markdown",
   "metadata": {},
   "source": [
    " ## パーサの反復結合\n",
    " パーサの直列接続（流れ作業）を反復しておこなうこともある．以下の例は(空白で区切られた)10進整数の並びを可能な限り長く切り出すパーサの例．10進整数の切り出しに失敗すればwhileループから抜け，その直前までの結果をリストにまとめて返している．\n",
    " `num`の呼び出しはいずれは（10進整数でない文字列か文字列全体の最後にたどり着いて）必ず失敗するので，このループはいずれは停止する．"
   ]
  },
  {
   "cell_type": "code",
   "execution_count": null,
   "metadata": {},
   "outputs": [],
   "source": [
    "@parser_do\n",
    "def nums(run):\n",
    "    ns = []\n",
    "    while True:\n",
    "        n = run(num, nullable=True) # [問]`nullable=True`を取り除いて実行するとどうなるか？\n",
    "        if n is None: break\n",
    "        ns += [n]\n",
    "    return ns"
   ]
  },
  {
   "cell_type": "code",
   "execution_count": null,
   "metadata": {},
   "outputs": [],
   "source": [
    "nums(\"12 3 45 6 abc 78 9\")"
   ]
  },
  {
   "cell_type": "markdown",
   "metadata": {},
   "source": [
    " 数をひとつも切り出せないこともありうる．このときは，上記の定義によれば，空のリスト`[]`を返すことになる．よって`nums`パーサはどんな入力に対しても失敗することがない．"
   ]
  },
  {
   "cell_type": "code",
   "execution_count": null,
   "metadata": {},
   "outputs": [],
   "source": [
    "nums(\"abc 12 3 45\")"
   ]
  },
  {
   "cell_type": "markdown",
   "metadata": {},
   "source": [
    " 上記のnumsのようにwhile文で反復するプログラムを書くときは無限ループにならないように注意(課題1(1)参照)．"
   ]
  },
  {
   "cell_type": "markdown",
   "metadata": {},
   "source": [
    " ## その他のライブラリ関数\n",
    " 上記以外にもパーサをつくったり組み合わせるのに便利な様々な関数が用意されているが，その中で本実験で用いるのは以下の4つだけである．\n",
    " (他の関数の説明は省略しますが使用は禁止しませんので，ライブラリのソースコード`toyparsing.py`を参照して使って構いません．)"
   ]
  },
  {
   "cell_type": "markdown",
   "metadata": {},
   "source": [
    " ### `word` （略記: `w`）\n",
    " `pat` (`pattern`)と似ているが正規表現特有のメタ文字(`*`,`+`,`|`など)を解釈しない（例：`word(\"[0-9]+\")` は`pat(”\\[0-9\\]\\+”)`と同じ意味になる．つまり，`[`, `0`, `-`, `9`, `]`, `+` の6文字からなる文字列を切り出すパーサを作って返す．"
   ]
  },
  {
   "cell_type": "code",
   "execution_count": null,
   "metadata": {},
   "outputs": [],
   "source": [
    "p = w(\"[0-9]+\")\n",
    "p(\"[0-9]+\")"
   ]
  },
  {
   "cell_type": "markdown",
   "metadata": {},
   "source": [
    " ### `>>`\n",
    " `p >> q`は`p & q`と同じく直列接続だが，先行する`p`の結果が捨てられるところだけが違う．`&`より先に結合する．"
   ]
  },
  {
   "cell_type": "code",
   "execution_count": null,
   "metadata": {},
   "outputs": [],
   "source": [
    "p = alpha >> num\n",
    "p(\"abc 123 45\")"
   ]
  },
  {
   "cell_type": "markdown",
   "metadata": {},
   "source": [
    " ### `<<`\n",
    " `p << q`は`p & q`と同じく直列接続だが，後続の`q`の結果が捨てられるところだけが違う．`&`より先に結合する．"
   ]
  },
  {
   "cell_type": "code",
   "execution_count": null,
   "metadata": {},
   "outputs": [],
   "source": [
    "p = alpha << num\n",
    "p(\"abc 123 45\")"
   ]
  },
  {
   "cell_type": "markdown",
   "metadata": {},
   "source": [
    " ### `>`\n",
    " `p > f`は`p`の切り出した出力に関数`f`を作用させるようなパーサをつくって返す．つまり以下のパーサ`f_of_p`と等価．\n",
    " ``` python\n",
    " @parser_do\n",
    " def f_of_p(run):\n",
    "     return f(run(p))\n",
    " ```\n",
    "\n",
    " 例えば上ででてきた整数に変換してから返す`num`の定義は以下のように短く書ける．"
   ]
  },
  {
   "cell_type": "code",
   "execution_count": null,
   "metadata": {},
   "outputs": [],
   "source": [
    "num = pat(\"[0-9]+\") > int"
   ]
  },
  {
   "cell_type": "markdown",
   "metadata": {},
   "source": [
    " ## コンマ区切り形式（CSV）データの処理\n",
    " 以下はコンマで区切られた10進整数の並びをできるだけ長く切り出す．"
   ]
  },
  {
   "cell_type": "code",
   "execution_count": null,
   "metadata": {},
   "outputs": [],
   "source": [
    "comma = w(\",\")  "
   ]
  },
  {
   "cell_type": "code",
   "execution_count": null,
   "metadata": {},
   "outputs": [],
   "source": [
    "@parser_do\n",
    "def csv(run):\n",
    "    a = [run(num)]\n",
    "    while True:\n",
    "        r = run(comma & num, nullable=True)\n",
    "        if r is None: break\n",
    "        a += r\n",
    "    return a    "
   ]
  },
  {
   "cell_type": "code",
   "execution_count": null,
   "metadata": {},
   "outputs": [],
   "source": [
    "csv(\"12,3,456,7,a,89\")"
   ]
  },
  {
   "cell_type": "markdown",
   "metadata": {},
   "source": [
    " コンマで区切られた10進整数の総和を求める．"
   ]
  },
  {
   "cell_type": "code",
   "execution_count": null,
   "metadata": {},
   "outputs": [],
   "source": [
    "@parser_do\n",
    "def csv_sum(run):\n",
    "    a = run(num)\n",
    "    while True:\n",
    "        b = run(comma >> num, nullable=True)\n",
    "        if b is None: break\n",
    "        a += b\n",
    "    return a"
   ]
  },
  {
   "cell_type": "code",
   "execution_count": null,
   "metadata": {},
   "outputs": [],
   "source": [
    "csv_sum(\"1,2,3,4,5,6,7,8,9,10\")"
   ]
  },
  {
   "cell_type": "markdown",
   "metadata": {},
   "source": [
    " ### [課題1]\n",
    " (1) 以下のパーサに入力を与えて呼び出すとどうなるか？\n",
    " \n",
    " (A) 必ず停止して（Noneも含む）何らかの値を返す\n",
    " \n",
    " (B) どんな入力に対しても無限ループになる\n",
    " \n",
    " (C) 入力次第で停止して何らかの値を返すこともあれば、無限ループになることもある\n",
    " \n",
    " 正しいと考える挙動を(A)〜(C)から選び、その理由をすじみち立てて説明せよ．"
   ]
  },
  {
   "cell_type": "code",
   "execution_count": null,
   "metadata": {},
   "outputs": [],
   "source": [
    "@parser_do\n",
    "def double_nums(run):\n",
    "    ns = []\n",
    "    while True:\n",
    "        n = run(nums, nullable=True) \n",
    "        if n is None: break\n",
    "        ns += [n]\n",
    "    return ns "
   ]
  },
  {
   "cell_type": "markdown",
   "metadata": {},
   "source": [
    " (2) 以下の`csv_sum_alt1`と`csv_sum_alt2`は上記の`csv_sum`の別解だろうか？ つまり`csv_sum_alt`と`csv_sum`はどんな入力に対しても同じふるまいをするのだろうか？\n",
    " 同じならそのことをすじみち立てて説明せよ．異なる場合はそのことを示す最短の（つまり文字数の少ない）入力文字列の例（反例）を提示し、それが最短の反例になっている理由を説明せよ．"
   ]
  },
  {
   "cell_type": "code",
   "execution_count": null,
   "metadata": {},
   "outputs": [],
   "source": [
    "@parser_do\n",
    "def csv_sum_alt1(run):\n",
    "    a = run(num)\n",
    "    while True:\n",
    "        if run(comma, nullable=True) is None: break\n",
    "        a += run(num)\n",
    "    return a "
   ]
  },
  {
   "cell_type": "code",
   "execution_count": null,
   "metadata": {},
   "outputs": [],
   "source": [
    "@parser_do\n",
    "def csv_sum_alt2(run):\n",
    "    a = run(num)\n",
    "    while True:\n",
    "        if run(comma, nullable=True) is None: break\n",
    "        n = run(num, nullable=True)\n",
    "        if n is None: break\n",
    "        a += n\n",
    "    return a"
   ]
  }
 ],
 "metadata": {
  "kernelspec": {
   "display_name": "Python 3",
   "language": "python",
   "name": "python3"
  },
  "language_info": {
   "codemirror_mode": {
    "name": "ipython",
    "version": 3
   },
   "file_extension": ".py",
   "mimetype": "text/x-python",
   "name": "python",
   "nbconvert_exporter": "python",
   "pygments_lexer": "ipython3",
   "version": "3.8.5"
  }
 },
 "nbformat": 4,
 "nbformat_minor": 2
}
